{
 "cells": [
  {
   "cell_type": "markdown",
   "metadata": {},
   "source": [
    "## Задача 3 (Python/R): Подготовка к встрече с новым владельцем сети магазинов\n"
   ]
  },
  {
   "cell_type": "markdown",
   "metadata": {},
   "source": [
    "### Описание задачи\n"
   ]
  },
  {
   "cell_type": "markdown",
   "metadata": {},
   "source": [
    "\n",
    "Завтра состоится встреча с новым владельцами бизнеса. Тебе предстоит подготовить информацию для встречи, где были бы собраны ключевые метрики, графики и сегменты на твой взгляд.\n",
    "\n",
    "Ты можешь использовать любые данные из задачи 2, любые библиотеки и методы, которые посчитаете необходимыми. Решение предлагается сделать в свободной форме, все файлы результата и реализации выложить в GoogleDrive, ссылку прикрепить в GoogleForms (не забудь предоставить доступы). Единственное ограничение - код должен быть написан на Python или R.\n",
    "\n",
    "У Product Ownerа есть желание понять, сколько единиц каждого товара необходимо поставить в каждый из магазинов в следующем месяце. Целью является совершить одну поставку товара в начале месяца и не довозить его больше, до начала следующего.\n",
    "\n",
    "Ты можешь использовать любые данные из задачи 2, любые библиотеки и методы, которые посчитаете необходимыми. Решение предлагается сделать в свободной форме, все файлы результата и реализации выложить в GoogleDrive, ссылку прикрепить в GoogleForms (не забудь предоставить доступы). Единственное ограничение - код должен быть написан на Python или R.\n"
   ]
  },
  {
   "cell_type": "markdown",
   "metadata": {},
   "source": [
    "### Описание подхода\n"
   ]
  },
  {
   "cell_type": "markdown",
   "metadata": {},
   "source": [
    "Выполняем sql запрос, который вернет нам все заказы с их месяцем оформления, описанием товара и названием магазина\n",
    "\n",
    "\n",
    "Описанием товара выбрана комбинация названия, цвета и размер для полноты данных\n",
    "\n",
    "\n",
    "Полученный DataFrame иллюстрируем, заполняя месяца, в которых не отмечены заказы по определенному типу товара, суммой заказов 0.\n",
    "\n",
    "\n",
    "Для удобства просмотра данных и экономии памяти на устройстве проверяющего использую выведение графиков в ipynb. Это оправдано большим количеством графиков, **скрипт удобно остановить, дабы не отображать все графики, ожидая окончания скрипта,** и не хранить их все огромным набором файлов, как это следовало бы делать на практике при формировании презентации.\n",
    "\n",
    "\n",
    "Это вызвано огромным набором товаров, для упрощения товары были разделены лишь по названию и цвету, данные объединялись вне зависимости от размеров, при необходимости их можно включить в анализ данных за минимальное время.\n",
    "\n",
    "\n",
    "\n",
    "\n"
   ]
  },
  {
   "cell_type": "markdown",
   "metadata": {},
   "source": [
    "### Программная реализация\n"
   ]
  },
  {
   "cell_type": "code",
   "execution_count": 1,
   "metadata": {},
   "outputs": [
    {
     "name": "stdout",
     "output_type": "stream",
     "text": [
      "Requirement already satisfied: pandasql in ./.venv/lib/python3.10/site-packages (0.7.3)\n",
      "Requirement already satisfied: sqlalchemy==1.4.46 in ./.venv/lib/python3.10/site-packages (1.4.46)\n",
      "Requirement already satisfied: seaborn in ./.venv/lib/python3.10/site-packages (0.13.1)\n",
      "Requirement already satisfied: greenlet!=0.4.17 in ./.venv/lib/python3.10/site-packages (from sqlalchemy==1.4.46) (3.0.3)\n",
      "Requirement already satisfied: numpy in ./.venv/lib/python3.10/site-packages (from pandasql) (1.26.3)\n",
      "Requirement already satisfied: pandas in ./.venv/lib/python3.10/site-packages (from pandasql) (2.1.4)\n",
      "Requirement already satisfied: matplotlib!=3.6.1,>=3.4 in ./.venv/lib/python3.10/site-packages (from seaborn) (3.8.2)\n",
      "Requirement already satisfied: contourpy>=1.0.1 in ./.venv/lib/python3.10/site-packages (from matplotlib!=3.6.1,>=3.4->seaborn) (1.2.0)\n",
      "Requirement already satisfied: cycler>=0.10 in ./.venv/lib/python3.10/site-packages (from matplotlib!=3.6.1,>=3.4->seaborn) (0.12.1)\n",
      "Requirement already satisfied: fonttools>=4.22.0 in ./.venv/lib/python3.10/site-packages (from matplotlib!=3.6.1,>=3.4->seaborn) (4.47.2)\n",
      "Requirement already satisfied: kiwisolver>=1.3.1 in ./.venv/lib/python3.10/site-packages (from matplotlib!=3.6.1,>=3.4->seaborn) (1.4.5)\n",
      "Requirement already satisfied: packaging>=20.0 in ./.venv/lib/python3.10/site-packages (from matplotlib!=3.6.1,>=3.4->seaborn) (23.2)\n",
      "Requirement already satisfied: pillow>=8 in ./.venv/lib/python3.10/site-packages (from matplotlib!=3.6.1,>=3.4->seaborn) (10.2.0)\n",
      "Requirement already satisfied: pyparsing>=2.3.1 in ./.venv/lib/python3.10/site-packages (from matplotlib!=3.6.1,>=3.4->seaborn) (3.1.1)\n",
      "Requirement already satisfied: python-dateutil>=2.7 in ./.venv/lib/python3.10/site-packages (from matplotlib!=3.6.1,>=3.4->seaborn) (2.8.2)\n",
      "Requirement already satisfied: pytz>=2020.1 in ./.venv/lib/python3.10/site-packages (from pandas->pandasql) (2023.3.post1)\n",
      "Requirement already satisfied: tzdata>=2022.1 in ./.venv/lib/python3.10/site-packages (from pandas->pandasql) (2023.4)\n",
      "Requirement already satisfied: six>=1.5 in ./.venv/lib/python3.10/site-packages (from python-dateutil>=2.7->matplotlib!=3.6.1,>=3.4->seaborn) (1.16.0)\n",
      "Note: you may need to restart the kernel to use updated packages.\n"
     ]
    }
   ],
   "source": [
    "# Необходимые библиотеки\n",
    "%pip install pandasql sqlalchemy==1.4.46 seaborn\n"
   ]
  },
  {
   "cell_type": "code",
   "execution_count": 5,
   "metadata": {},
   "outputs": [],
   "source": [
    "import pandas as pd\n",
    "from pandasql import sqldf\n",
    "import seaborn as sns\n",
    "import matplotlib.pyplot as plt"
   ]
  },
  {
   "cell_type": "markdown",
   "metadata": {},
   "source": [
    "Загрузка данных"
   ]
  },
  {
   "cell_type": "code",
   "execution_count": 3,
   "metadata": {},
   "outputs": [],
   "source": [
    "import numpy as np\n",
    "pd.set_option('display.max_colwidth', None)  # or 199\n",
    "\n",
    "orders = pd.read_csv('orders.csv')\n",
    "sales = pd.read_csv('sales.csv')\n",
    "user = pd.read_csv('user.csv')\n",
    "store = pd.read_csv('store.csv')\n",
    "product = pd.read_csv('product.csv')\n",
    "# fixed the data, got malformed JSON other way\n",
    "orders['product_info'] = orders['product_info'].str.replace('\\'', '\\\"')\n",
    "orders['product_info'] = orders['product_info'].str.replace('False', 'false')\n",
    "orders['product_info'] = orders['product_info'].str.replace('True', 'true')"
   ]
  },
  {
   "cell_type": "markdown",
   "metadata": {},
   "source": [
    "Считываем SQL запросом набор необходимых нам данных"
   ]
  },
  {
   "cell_type": "code",
   "execution_count": 6,
   "metadata": {},
   "outputs": [
    {
     "data": {
      "text/html": [
       "<div>\n",
       "<style scoped>\n",
       "    .dataframe tbody tr th:only-of-type {\n",
       "        vertical-align: middle;\n",
       "    }\n",
       "\n",
       "    .dataframe tbody tr th {\n",
       "        vertical-align: top;\n",
       "    }\n",
       "\n",
       "    .dataframe thead th {\n",
       "        text-align: right;\n",
       "    }\n",
       "</style>\n",
       "<table border=\"1\" class=\"dataframe\">\n",
       "  <thead>\n",
       "    <tr style=\"text-align: right;\">\n",
       "      <th></th>\n",
       "      <th>store_id</th>\n",
       "      <th>store_name</th>\n",
       "      <th>product_characteristics</th>\n",
       "      <th>amount_by_month</th>\n",
       "      <th>month</th>\n",
       "    </tr>\n",
       "  </thead>\n",
       "  <tbody>\n",
       "    <tr>\n",
       "      <th>0</th>\n",
       "      <td>6</td>\n",
       "      <td>Rio Leninsky</td>\n",
       "      <td>Astral Ascent Anorak Black</td>\n",
       "      <td>82</td>\n",
       "      <td>01</td>\n",
       "    </tr>\n",
       "    <tr>\n",
       "      <th>1</th>\n",
       "      <td>6</td>\n",
       "      <td>Rio Leninsky</td>\n",
       "      <td>Astral Ascent Anorak Blue</td>\n",
       "      <td>138</td>\n",
       "      <td>01</td>\n",
       "    </tr>\n",
       "    <tr>\n",
       "      <th>2</th>\n",
       "      <td>6</td>\n",
       "      <td>Rio Leninsky</td>\n",
       "      <td>Astral Ascent Anorak Brown</td>\n",
       "      <td>126</td>\n",
       "      <td>01</td>\n",
       "    </tr>\n",
       "    <tr>\n",
       "      <th>3</th>\n",
       "      <td>6</td>\n",
       "      <td>Rio Leninsky</td>\n",
       "      <td>Astral Ascent Anorak Green</td>\n",
       "      <td>97</td>\n",
       "      <td>01</td>\n",
       "    </tr>\n",
       "    <tr>\n",
       "      <th>4</th>\n",
       "      <td>6</td>\n",
       "      <td>Rio Leninsky</td>\n",
       "      <td>Astral Ascent Anorak Orange</td>\n",
       "      <td>93</td>\n",
       "      <td>01</td>\n",
       "    </tr>\n",
       "    <tr>\n",
       "      <th>...</th>\n",
       "      <td>...</td>\n",
       "      <td>...</td>\n",
       "      <td>...</td>\n",
       "      <td>...</td>\n",
       "      <td>...</td>\n",
       "    </tr>\n",
       "    <tr>\n",
       "      <th>7435</th>\n",
       "      <td>15</td>\n",
       "      <td>Koltso</td>\n",
       "      <td>Zenith Zephyr Zip-Up Pink</td>\n",
       "      <td>64</td>\n",
       "      <td>12</td>\n",
       "    </tr>\n",
       "    <tr>\n",
       "      <th>7436</th>\n",
       "      <td>5</td>\n",
       "      <td>Kapitoly Belyaevo</td>\n",
       "      <td>Zenith Zephyr Zip-Up Purple</td>\n",
       "      <td>55</td>\n",
       "      <td>12</td>\n",
       "    </tr>\n",
       "    <tr>\n",
       "      <th>7437</th>\n",
       "      <td>6</td>\n",
       "      <td>Rio Leninsky</td>\n",
       "      <td>Zenith Zephyr Zip-Up Red</td>\n",
       "      <td>65</td>\n",
       "      <td>12</td>\n",
       "    </tr>\n",
       "    <tr>\n",
       "      <th>7438</th>\n",
       "      <td>2</td>\n",
       "      <td>Afimoll</td>\n",
       "      <td>Zenith Zephyr Zip-Up White</td>\n",
       "      <td>52</td>\n",
       "      <td>12</td>\n",
       "    </tr>\n",
       "    <tr>\n",
       "      <th>7439</th>\n",
       "      <td>5</td>\n",
       "      <td>Kapitoly Belyaevo</td>\n",
       "      <td>Zenith Zephyr Zip-Up Yellow</td>\n",
       "      <td>77</td>\n",
       "      <td>12</td>\n",
       "    </tr>\n",
       "  </tbody>\n",
       "</table>\n",
       "<p>7440 rows × 5 columns</p>\n",
       "</div>"
      ],
      "text/plain": [
       "      store_id         store_name      product_characteristics  \\\n",
       "0            6       Rio Leninsky   Astral Ascent Anorak Black   \n",
       "1            6       Rio Leninsky    Astral Ascent Anorak Blue   \n",
       "2            6       Rio Leninsky   Astral Ascent Anorak Brown   \n",
       "3            6       Rio Leninsky   Astral Ascent Anorak Green   \n",
       "4            6       Rio Leninsky  Astral Ascent Anorak Orange   \n",
       "...        ...                ...                          ...   \n",
       "7435        15             Koltso    Zenith Zephyr Zip-Up Pink   \n",
       "7436         5  Kapitoly Belyaevo  Zenith Zephyr Zip-Up Purple   \n",
       "7437         6       Rio Leninsky     Zenith Zephyr Zip-Up Red   \n",
       "7438         2            Afimoll   Zenith Zephyr Zip-Up White   \n",
       "7439         5  Kapitoly Belyaevo  Zenith Zephyr Zip-Up Yellow   \n",
       "\n",
       "      amount_by_month month  \n",
       "0                  82    01  \n",
       "1                 138    01  \n",
       "2                 126    01  \n",
       "3                  97    01  \n",
       "4                  93    01  \n",
       "...               ...   ...  \n",
       "7435               64    12  \n",
       "7436               55    12  \n",
       "7437               65    12  \n",
       "7438               52    12  \n",
       "7439               77    12  \n",
       "\n",
       "[7440 rows x 5 columns]"
      ]
     },
     "execution_count": 6,
     "metadata": {},
     "output_type": "execute_result"
    }
   ],
   "source": [
    "with open('result_task_3.txt', 'r') as file:\n",
    "    # Читаем содержимое файла\n",
    "    query = file.read()\n",
    "\n",
    "# Сохраняем результат SQL запроса в pandas DataFrame\n",
    "result_task_3 = sqldf(query, globals())\n",
    "result_task_3"
   ]
  },
  {
   "cell_type": "markdown",
   "metadata": {},
   "source": [
    "Вывод графиков\n",
    "\n",
    "**(если ждать выведения всех товаров, то это смертельно долго)**"
   ]
  },
  {
   "cell_type": "code",
   "execution_count": null,
   "metadata": {},
   "outputs": [],
   "source": [
    "\n",
    "products = result_task_3['product_characteristics'].unique()\n",
    "stores = result_task_3['store_name'].unique()\n",
    "\n",
    "for s in stores:\n",
    "    for p in products:\n",
    "        mask = (result_task_3['product_characteristics'] == p) & (result_task_3['store_name'] == s)\n",
    "        empty_months = set(range(1,13)) - set(result_task_3[mask]['order_month'].unique().astype(int))\n",
    "        \n",
    "        product_id = result_task_3[result_task_3['product_characteristics'] == p]['product_id']\n",
    "        ass = type(product_id)\n",
    "        product_id = product_id.iloc[0]\n",
    "        store_id = result_task_3[result_task_3['store_name'] == s]['store_id'][0]\n",
    "        # now we add empty months into data\n",
    "        for empty_month in empty_months:\n",
    "            df = pd.DataFrame([[product_id, store_id, p, s, 0, empty_month]], columns=result_task_3.columns)\n",
    "            result_task_3 = pd.concat([df, result_task_3],\n",
    "                                      ignore_index=True)\n",
    "        \n",
    "        mask = (result_task_3['product_characteristics'] == p) & (result_task_3['store_name'] == s)\n",
    "        ax = sns.lineplot(data=result_task_3[mask], x='order_month', y='amount_by_month', hue='product_color')\n",
    "        ax.set(xlabel='months', ylabel='n_sold', title=p + ' in ' + s)\n",
    "        plt.show()"
   ]
  },
  {
   "cell_type": "markdown",
   "metadata": {},
   "source": [
    "### Итоги"
   ]
  },
  {
   "cell_type": "markdown",
   "metadata": {},
   "source": [
    "Полученные графики оптимальны для предсказания необходимых ежемесячных закупок товаров для каждого отдельного магазина. \n",
    "\n",
    "Полученные данные не распостраняются назад дальше года, поэтому такой простой метод достаточен.\n",
    "\n",
    "Однако при большем периоде исследуемых данных для прогноза следует использовать модели SARIMA/SARIMAX."
   ]
  }
 ],
 "metadata": {
  "kernelspec": {
   "display_name": ".venv",
   "language": "python",
   "name": "python3"
  },
  "language_info": {
   "codemirror_mode": {
    "name": "ipython",
    "version": 3
   },
   "file_extension": ".py",
   "mimetype": "text/x-python",
   "name": "python",
   "nbconvert_exporter": "python",
   "pygments_lexer": "ipython3",
   "version": "3.10.12"
  }
 },
 "nbformat": 4,
 "nbformat_minor": 2
}
