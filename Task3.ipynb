{
 "cells": [
  {
   "cell_type": "markdown",
   "metadata": {},
   "source": [
    "## Задача 3 (Python/R): Подготовка к встрече с новым владельцем сети магазинов\n"
   ]
  },
  {
   "cell_type": "markdown",
   "metadata": {},
   "source": [
    "### Описание задачи\n"
   ]
  },
  {
   "cell_type": "markdown",
   "metadata": {},
   "source": [
    "\n",
    "Завтра состоится встреча с новым владельцами бизнеса. Тебе предстоит подготовить информацию для встречи, где были бы собраны ключевые метрики, графики и сегменты на твой взгляд.\n",
    "\n",
    "Ты можешь использовать любые данные из задачи 2, любые библиотеки и методы, которые посчитаете необходимыми. Решение предлагается сделать в свободной форме, все файлы результата и реализации выложить в GoogleDrive, ссылку прикрепить в GoogleForms (не забудь предоставить доступы). Единственное ограничение - код должен быть написан на Python или R.\n",
    "\n",
    "У Product Ownerа есть желание понять, сколько единиц каждого товара необходимо поставить в каждый из магазинов в следующем месяце. Целью является совершить одну поставку товара в начале месяца и не довозить его больше, до начала следующего.\n",
    "\n",
    "Ты можешь использовать любые данные из задачи 2, любые библиотеки и методы, которые посчитаете необходимыми. Решение предлагается сделать в свободной форме, все файлы результата и реализации выложить в GoogleDrive, ссылку прикрепить в GoogleForms (не забудь предоставить доступы). Единственное ограничение - код должен быть написан на Python или R.\n"
   ]
  },
  {
   "cell_type": "markdown",
   "metadata": {},
   "source": [
    "### Описание подхода\n"
   ]
  },
  {
   "cell_type": "markdown",
   "metadata": {},
   "source": [
    "Выполняем sql запрос, который вернет нам все заказы с их месяцем оформления, описанием товара и названием магазина\n",
    "\n",
    "\n",
    "Описанием товара выбрана комбинация названия, цвета и размер для полноты данных\n",
    "\n",
    "\n",
    "Полученный DataFrame иллюстрируем, заполняя месяца, в которых не отмечены заказы по определенному типу товара, суммой заказов 0.\n",
    "\n",
    "\n",
    "Для удобства просмотра данных и экономии памяти на устройстве проверяющего использую выведение графиков в ipynb. Это оправдано большим количеством графиков, **скрипт удобно остановить, дабы не отображать все графики, ожидая окончания скрипта,** и не хранить их все огромным набором файлов, как это следовало бы делать на практике при формировании презентации.\n",
    "\n",
    "\n",
    "Это вызвано огромным набором товаров, для упрощения товары были разделены лишь по названию и цвету, данные объединялись вне зависимости от размеров, при необходимости их можно включить в анализ данных за минимальное время.\n",
    "\n",
    "\n",
    "\n",
    "\n"
   ]
  },
  {
   "cell_type": "markdown",
   "metadata": {},
   "source": [
    "### Программная реализация\n"
   ]
  },
  {
   "cell_type": "code",
   "execution_count": null,
   "metadata": {},
   "outputs": [],
   "source": [
    "# Необходимые библиотеки\n",
    "%pip install pandasql sqlalchemy==1.4.46 seaborn\n"
   ]
  },
  {
   "cell_type": "code",
   "execution_count": null,
   "metadata": {},
   "outputs": [],
   "source": [
    "import pandas as pd\n",
    "from pandasql import sqldf\n",
    "import seaborn as sns\n",
    "import matplotlib.pyplot as plt"
   ]
  },
  {
   "cell_type": "markdown",
   "metadata": {},
   "source": [
    "Загрузка данных"
   ]
  },
  {
   "cell_type": "code",
   "execution_count": null,
   "metadata": {},
   "outputs": [],
   "source": [
    "import numpy as np\n",
    "pd.set_option('display.max_colwidth', None)  # or 199\n",
    "\n",
    "orders = pd.read_csv('orders.csv')\n",
    "sales = pd.read_csv('sales.csv')\n",
    "user = pd.read_csv('user.csv')\n",
    "store = pd.read_csv('store.csv')\n",
    "product = pd.read_csv('product.csv')\n",
    "# fixed the data, got malformed JSON other way\n",
    "orders['product_info'] = orders['product_info'].str.replace('\\'', '\\\"')\n",
    "orders['product_info'] = orders['product_info'].str.replace('False', 'false')\n",
    "orders['product_info'] = orders['product_info'].str.replace('True', 'true')"
   ]
  },
  {
   "cell_type": "markdown",
   "metadata": {},
   "source": [
    "Считываем SQL запросом набор необходимых нам данных"
   ]
  },
  {
   "cell_type": "code",
   "execution_count": null,
   "metadata": {},
   "outputs": [],
   "source": [
    "with open('result_task_3.txt', 'r') as file:\n",
    "    # Читаем содержимое файла\n",
    "    query = file.read()\n",
    "\n",
    "# Сохраняем результат SQL запроса в pandas DataFrame\n",
    "result_task_3 = sqldf(query, globals())\n",
    "result_task_3"
   ]
  },
  {
   "cell_type": "markdown",
   "metadata": {},
   "source": [
    "Вывод графиков\n",
    "\n",
    "**(если ждать выведения всех товаров, то это смертельно долго)**"
   ]
  },
  {
   "cell_type": "code",
   "execution_count": null,
   "metadata": {},
   "outputs": [],
   "source": [
    "\n",
    "products = result_task_3['product_characteristics'].unique()\n",
    "stores = result_task_3['store_name'].unique()\n",
    "\n",
    "for s in stores:\n",
    "    for p in products:\n",
    "        mask = (result_task_3['product_characteristics'] == p) & (result_task_3['store_name'] == s)\n",
    "        empty_months = set(range(1,13)) - set(result_task_3[mask]['month'].unique().astype(int))\n",
    "        \n",
    "        store_id = result_task_3[result_task_3['store_name'] == s]['store_id'][0]\n",
    "        # now we add empty months into data\n",
    "        for empty_month in empty_months:\n",
    "            df = pd.DataFrame([[store_id, s, p, 0, empty_month]], columns=result_task_3.columns)\n",
    "            result_task_3 = pd.concat([df, result_task_3],\n",
    "                                      ignore_index=True)\n",
    "        \n",
    "        mask = (result_task_3['product_characteristics'] == p) & (result_task_3['store_name'] == s)\n",
    "        ax = sns.lineplot(data=result_task_3[mask], x='month', y='amount_by_month')\n",
    "        ax.set(xlabel='months', ylabel='n_sold', title=p + ' in ' + s)\n",
    "        plt.show()"
   ]
  },
  {
   "cell_type": "markdown",
   "metadata": {},
   "source": [
    "### Итоги"
   ]
  },
  {
   "cell_type": "markdown",
   "metadata": {},
   "source": [
    "Полученные графики оптимальны для предсказания необходимых ежемесячных закупок товаров для каждого отдельного магазина. \n",
    "\n",
    "Полученные данные не распостраняются назад дальше года, поэтому такой простой метод достаточен.\n",
    "\n",
    "Однако при большем периоде исследуемых данных для прогноза следует использовать модели SARIMA/SARIMAX."
   ]
  }
 ],
 "metadata": {
  "kernelspec": {
   "display_name": ".venv",
   "language": "python",
   "name": "python3"
  },
  "language_info": {
   "codemirror_mode": {
    "name": "ipython",
    "version": 3
   },
   "file_extension": ".py",
   "mimetype": "text/x-python",
   "name": "python",
   "nbconvert_exporter": "python",
   "pygments_lexer": "ipython3",
   "version": "3.10.12"
  }
 },
 "nbformat": 4,
 "nbformat_minor": 2
}
